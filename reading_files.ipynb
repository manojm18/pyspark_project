{
 "cells": [
  {
   "cell_type": "code",
   "execution_count": 1,
   "metadata": {
    "collapsed": false
   },
   "outputs": [],
   "source": [
    "sc = SparkContext.getOrCreate()\n",
    "RDDread = sc.textFile(\"C:/Users/MANOJ/pyspark_projects/notes.txt\")"
   ]
  },
  {
   "cell_type": "code",
   "execution_count": 2,
   "metadata": {
    "collapsed": false
   },
   "outputs": [
    {
     "data": {
      "text/plain": [
       "[u'too much information,',\n",
       " u'',\n",
       " u'remove anything related mechanical, when applaying for data scientist.',\n",
       " u'Use Europass CV',\n",
       " u'',\n",
       " u'first professional experience, then education.',\n",
       " u'',\n",
       " u'in prof experience,',\n",
       " u'researcher in data analysis lab.',\n",
       " u'1 year experience',\n",
       " u'',\n",
       " u'change chennai experience as if such its in software development.',\n",
       " u'',\n",
       " u'education. shrink it.',\n",
       " u'make Msc thesis and Bsc thesis bold.',\n",
       " u'',\n",
       " u'skills,',\n",
       " u'remove mechanical related.',\n",
       " u'1. progreamming, all python packages,',\n",
       " u'2. Database - postgresSQL, My SQL',\n",
       " u'unstructured database, bigdata, ',\n",
       " u'distributed computing hadoop.',\n",
       " u'methods to convert project to practical implementation.',\n",
       " u'',\n",
       " u'references include',\n",
       " u'behzad and',\n",
       " u'rinaldi',\n",
       " u'',\n",
       " u'parallel computing',\n",
       " u'scala (programming language) and spark (big data, hadoop) with python',\n",
       " u'',\n",
       " u'remove objective: use separate cover letter.',\n",
       " u'',\n",
       " u'thursday discussion webpage profile.',\n",
       " u'',\n",
       " u'',\n",
       " u'prague, czech, budapest. check for opens there.',\n",
       " u'malta -  after december i can move to these countries to look for jobs.',\n",
       " u'',\n",
       " u'',\n",
       " u'after graduation, ',\n",
       " u'can find any projects and improve on it based on Hadoop or spark.',\n",
       " u'',\n",
       " u'',\n",
       " u'']"
      ]
     },
     "execution_count": 2,
     "metadata": {},
     "output_type": "execute_result"
    }
   ],
   "source": [
    "RDDread.collect()"
   ]
  },
  {
   "cell_type": "code",
   "execution_count": 3,
   "metadata": {
    "collapsed": false
   },
   "outputs": [
    {
     "data": {
      "text/plain": [
       "u'too much information,'"
      ]
     },
     "execution_count": 3,
     "metadata": {},
     "output_type": "execute_result"
    }
   ],
   "source": [
    "RDDread.first()"
   ]
  },
  {
   "cell_type": "code",
   "execution_count": 4,
   "metadata": {
    "collapsed": false
   },
   "outputs": [
    {
     "data": {
      "text/plain": [
       "[u'too much information,',\n",
       " u'',\n",
       " u'remove anything related mechanical, when applaying for data scientist.',\n",
       " u'Use Europass CV',\n",
       " u'']"
      ]
     },
     "execution_count": 4,
     "metadata": {},
     "output_type": "execute_result"
    }
   ],
   "source": [
    "RDDread.take(5)"
   ]
  },
  {
   "cell_type": "code",
   "execution_count": 5,
   "metadata": {
    "collapsed": false
   },
   "outputs": [
    {
     "data": {
      "text/plain": [
       "[u'education. shrink it.',\n",
       " u'unstructured database, bigdata, ',\n",
       " u'',\n",
       " u'',\n",
       " u'skills,',\n",
       " u'1 year experience',\n",
       " u'remove mechanical related.',\n",
       " u'',\n",
       " u'',\n",
       " u'in prof experience,']"
      ]
     },
     "execution_count": 5,
     "metadata": {},
     "output_type": "execute_result"
    }
   ],
   "source": [
    "RDDread.takeSample(False,10,2)"
   ]
  },
  {
   "cell_type": "code",
   "execution_count": 6,
   "metadata": {
    "collapsed": false
   },
   "outputs": [
    {
     "data": {
      "text/plain": [
       "45"
      ]
     },
     "execution_count": 6,
     "metadata": {},
     "output_type": "execute_result"
    }
   ],
   "source": [
    "RDDread.count()"
   ]
  },
  {
   "cell_type": "code",
   "execution_count": null,
   "metadata": {
    "collapsed": true
   },
   "outputs": [],
   "source": []
  },
  {
   "cell_type": "code",
   "execution_count": null,
   "metadata": {
    "collapsed": true
   },
   "outputs": [],
   "source": []
  }
 ],
 "metadata": {
  "kernelspec": {
   "display_name": "Python [default]",
   "language": "python",
   "name": "python2"
  },
  "language_info": {
   "codemirror_mode": {
    "name": "ipython",
    "version": 2
   },
   "file_extension": ".py",
   "mimetype": "text/x-python",
   "name": "python",
   "nbconvert_exporter": "python",
   "pygments_lexer": "ipython2",
   "version": "2.7.12"
  }
 },
 "nbformat": 4,
 "nbformat_minor": 1
}
